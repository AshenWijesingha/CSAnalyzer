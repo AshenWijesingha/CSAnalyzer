{
 "nbformat": 4,
 "nbformat_minor": 0,
 "metadata": {
  "colab": {
   "provenance": []
  },
  "kernelspec": {
   "name": "python3",
   "language": "python",
   "display_name": "Python 3 (ipykernel)"
  },
  "language_info": {
   "name": "python"
  }
 },
 "cells": [
  {
   "cell_type": "markdown",
   "source": [
    "This notebook contains code intended to evaluate the pitch accuracy of a singing performance in comparison to an audio track. It is done by separating the audio track from the accompanied musical instrument and comparing the variation of pitches of the two audio tracks with time."
   ],
   "metadata": {
    "id": "_3y6i8eCgVBz"
   }
  },
  {
   "cell_type": "markdown",
   "source": [
    "install python bindings for FFmpeg - with complex filtering support"
   ],
   "metadata": {
    "collapsed": false
   }
  },
  {
   "cell_type": "code",
   "source": [
    "import ffmpeg"
   ],
   "metadata": {
    "id": "ddRiKTRrkPZp",
    "ExecuteTime": {
     "end_time": "2023-11-04T01:19:04.628581400Z",
     "start_time": "2023-11-04T01:19:04.581851100Z"
    }
   },
   "execution_count": 1,
   "outputs": []
  },
  {
   "cell_type": "markdown",
   "source": [
    "Install Initial modules to be fixed the Spleeter Issues"
   ],
   "metadata": {
    "collapsed": false
   }
  },
  {
   "cell_type": "code",
   "execution_count": 8,
   "outputs": [
    {
     "name": "stdout",
     "output_type": "stream",
     "text": [
      "Requirement already satisfied: pip in c:\\users\\ashen wijesingha\\appdata\\local\\programs\\python\\python311\\lib\\site-packages (23.3.1)\n",
      "Requirement already satisfied: setuptools in c:\\users\\ashen wijesingha\\appdata\\local\\programs\\python\\python311\\lib\\site-packages (68.2.2)\n",
      "Requirement already satisfied: cython in c:\\users\\ashen wijesingha\\appdata\\local\\programs\\python\\python311\\lib\\site-packages (3.0.5)\n",
      "Requirement already satisfied: numpy in c:\\users\\ashen wijesingha\\appdata\\local\\programs\\python\\python311\\lib\\site-packages (1.23.5)\n"
     ]
    }
   ],
   "source": [
    "!pip install --upgrade pip setuptools\n",
    "!pip install --upgrade cython\n",
    "!pip install numpy"
   ],
   "metadata": {
    "collapsed": false,
    "ExecuteTime": {
     "end_time": "2023-11-04T01:31:56.698389700Z",
     "start_time": "2023-11-04T01:31:41.566929200Z"
    }
   }
  },
  {
   "cell_type": "markdown",
   "source": [
    "install python bindings for spleeter - with complex audio separation support"
   ],
   "metadata": {
    "collapsed": false
   }
  },
  {
   "cell_type": "code",
   "execution_count": 9,
   "outputs": [
    {
     "name": "stdout",
     "output_type": "stream",
     "text": [
      "Collecting spleeter\n",
      "  Using cached spleeter-2.1.0-py3-none-any.whl (50 kB)\n",
      "Requirement already satisfied: ffmpeg-python==0.2.0 in c:\\users\\ashen wijesingha\\appdata\\local\\programs\\python\\python311\\lib\\site-packages (from spleeter) (0.2.0)\n",
      "Collecting httpx<0.17.0,>=0.16.1 (from httpx[http2]<0.17.0,>=0.16.1->spleeter)\n",
      "  Using cached httpx-0.16.1-py3-none-any.whl (65 kB)\n",
      "Collecting librosa==0.8.0 (from spleeter)\n",
      "  Using cached librosa-0.8.0.tar.gz (183 kB)\n",
      "  Preparing metadata (setup.py): started\n",
      "  Preparing metadata (setup.py): finished with status 'done'\n",
      "Collecting norbert==0.2.1 (from spleeter)\n",
      "  Using cached norbert-0.2.1-py2.py3-none-any.whl (11 kB)\n",
      "Collecting numpy<1.19.0,>=1.16.0 (from spleeter)\n",
      "  Using cached numpy-1.18.5.zip (5.4 MB)\n",
      "  Installing build dependencies: started\n",
      "  Installing build dependencies: finished with status 'done'\n",
      "  Getting requirements to build wheel: started\n",
      "  Getting requirements to build wheel: finished with status 'done'\n",
      "  Preparing metadata (pyproject.toml): started\n",
      "  Preparing metadata (pyproject.toml): finished with status 'error'\n"
     ]
    },
    {
     "name": "stderr",
     "output_type": "stream",
     "text": [
      "  error: subprocess-exited-with-error\n",
      "  \n",
      "  Preparing metadata (pyproject.toml) did not run successfully.\n",
      "  exit code: 1\n",
      "  \n",
      "  [92 lines of output]\n",
      "  Running from numpy source directory.\n",
      "  <string>:461: UserWarning: Unrecognized setuptools command, proceeding with generating Cython sources and expanding templates\n",
      "  C:\\Users\\Ashen Wijesingha\\AppData\\Local\\Temp\\pip-install-d9w4aq74\\numpy_347672c58d8744529994112e64d0193f\\tools\\cythonize.py:75: DeprecationWarning: distutils Version classes are deprecated. Use packaging.version instead.\n",
      "    required_version = LooseVersion('0.29.14')\n",
      "  C:\\Users\\Ashen Wijesingha\\AppData\\Local\\Temp\\pip-install-d9w4aq74\\numpy_347672c58d8744529994112e64d0193f\\tools\\cythonize.py:77: DeprecationWarning: distutils Version classes are deprecated. Use packaging.version instead.\n",
      "    if LooseVersion(cython_version) < required_version:\n",
      "  performance hint: _common.pyx:261:19: Exception check will always require the GIL to be acquired. Declare the function as 'noexcept' if you control the definition and you're sure you don't want the function to raise exceptions.\n",
      "  performance hint: _common.pyx:285:19: Exception check will always require the GIL to be acquired. Declare the function as 'noexcept' if you control the definition and you're sure you don't want the function to raise exceptions.\n",
      "  performance hint: _common.pyx:308:50: Exception check will always require the GIL to be acquired. Declare the function as 'noexcept' if you control the definition and you're sure you don't want the function to raise exceptions.\n",
      "  performance hint: _common.pyx:411:31: Exception check will always require the GIL to be acquired. Declare the function as 'noexcept' if you control the definition and you're sure you don't want the function to raise exceptions.\n",
      "  performance hint: _common.pyx:448:31: Exception check will always require the GIL to be acquired. Declare the function as 'noexcept' if you control the definition and you're sure you don't want the function to raise exceptions.\n",
      "  performance hint: _common.pyx:490:31: Exception check will always require the GIL to be acquired. Declare the function as 'noexcept' if you control the definition and you're sure you don't want the function to raise exceptions.\n",
      "  performance hint: _common.pyx:573:36: Exception check will always require the GIL to be acquired. Declare the function as 'noexcept' if you control the definition and you're sure you don't want the function to raise exceptions.\n",
      "  performance hint: _common.pyx:577:36: Exception check will always require the GIL to be acquired. Declare the function as 'noexcept' if you control the definition and you're sure you don't want the function to raise exceptions.\n",
      "  performance hint: _common.pyx:581:36: Exception check will always require the GIL to be acquired. Declare the function as 'noexcept' if you control the definition and you're sure you don't want the function to raise exceptions.\n",
      "  performance hint: _common.pyx:585:36: Exception check will always require the GIL to be acquired. Declare the function as 'noexcept' if you control the definition and you're sure you don't want the function to raise exceptions.\n",
      "  performance hint: _common.pyx:617:31: Exception check will always require the GIL to be acquired. Declare the function as 'noexcept' if you control the definition and you're sure you don't want the function to raise exceptions.\n",
      "  performance hint: _common.pyx:652:31: Exception check will always require the GIL to be acquired. Declare the function as 'noexcept' if you control the definition and you're sure you don't want the function to raise exceptions.\n",
      "  performance hint: _common.pyx:687:63: Exception check will always require the GIL to be acquired. Declare the function as 'noexcept' if you control the definition and you're sure you don't want the function to raise exceptions.\n",
      "  performance hint: _common.pyx:727:31: Exception check will always require the GIL to be acquired. Declare the function as 'noexcept' if you control the definition and you're sure you don't want the function to raise exceptions.\n",
      "  performance hint: _common.pyx:756:31: Exception check will always require the GIL to be acquired. Declare the function as 'noexcept' if you control the definition and you're sure you don't want the function to raise exceptions.\n",
      "  performance hint: _common.pyx:874:40: Exception check will always require the GIL to be acquired. Declare the function as 'noexcept' if you control the definition and you're sure you don't want the function to raise exceptions.\n",
      "  performance hint: _common.pyx:878:40: Exception check will always require the GIL to be acquired. Declare the function as 'noexcept' if you control the definition and you're sure you don't want the function to raise exceptions.\n",
      "  performance hint: _common.pyx:882:41: Exception check will always require the GIL to be acquired. Declare the function as 'noexcept' if you control the definition and you're sure you don't want the function to raise exceptions.\n",
      "  performance hint: _common.pyx:887:40: Exception check will always require the GIL to be acquired. Declare the function as 'noexcept' if you control the definition and you're sure you don't want the function to raise exceptions.\n",
      "  performance hint: _common.pyx:891:41: Exception check will always require the GIL to be acquired. Declare the function as 'noexcept' if you control the definition and you're sure you don't want the function to raise exceptions.\n",
      "  performance hint: _common.pyx:895:38: Exception check will always require the GIL to be acquired. Declare the function as 'noexcept' if you control the definition and you're sure you don't want the function to raise exceptions.\n",
      "  performance hint: _common.pyx:930:31: Exception check will always require the GIL to be acquired. Declare the function as 'noexcept' if you control the definition and you're sure you don't want the function to raise exceptions.\n",
      "  performance hint: _common.pyx:972:32: Exception check will always require the GIL to be acquired. Declare the function as 'noexcept' if you control the definition and you're sure you don't want the function to raise exceptions.\n",
      "  performance hint: _generator.pyx:811:41: Exception check will always require the GIL to be acquired.\n",
      "  Possible solutions:\n",
      "          1. Declare the function as 'noexcept' if you control the definition and you're sure you don't want the function to raise exceptions.\n",
      "          2. Use an 'int' return type on the function to allow an error code to be returned.\n",
      "  performance hint: _generator.pyx:840:45: Exception check will always require the GIL to be acquired.\n",
      "  Possible solutions:\n",
      "          1. Declare the function as 'noexcept' if you control the definition and you're sure you don't want the function to raise exceptions.\n",
      "          2. Use an 'int' return type on the function to allow an error code to be returned.\n",
      "  \n",
      "  Error compiling Cython file:\n",
      "  ------------------------------------------------------------\n",
      "  ...\n",
      "          for i in range(1, RK_STATE_LEN):\n",
      "              self.rng_state.key[i] = val[i]\n",
      "          self.rng_state.pos = i\n",
      "  \n",
      "          self._bitgen.state = &self.rng_state\n",
      "          self._bitgen.next_uint64 = &mt19937_uint64\n",
      "                                     ^\n",
      "  ------------------------------------------------------------\n",
      "  \n",
      "  _mt19937.pyx:138:35: Cannot assign type 'uint64_t (*)(void *) except? -1 nogil' to 'uint64_t (*)(void *) noexcept nogil'. Exception values are incompatible. Suggest adding 'noexcept' to type 'uint64_t (void *) except? -1 nogil'.\n",
      "  Processing numpy/random\\_bounded_integers.pxd.in\n",
      "  Processing numpy/random\\mtrand.pyx\n",
      "  Processing numpy/random\\_bit_generator.pyx\n",
      "  Processing numpy/random\\_bounded_integers.pyx.in\n",
      "  Processing numpy/random\\_common.pyx\n",
      "  Processing numpy/random\\_generator.pyx\n",
      "  Processing numpy/random\\_mt19937.pyx\n",
      "  Traceback (most recent call last):\n",
      "    File \"C:\\Users\\Ashen Wijesingha\\AppData\\Local\\Temp\\pip-install-d9w4aq74\\numpy_347672c58d8744529994112e64d0193f\\tools\\cythonize.py\", line 238, in <module>\n",
      "      main()\n",
      "    File \"C:\\Users\\Ashen Wijesingha\\AppData\\Local\\Temp\\pip-install-d9w4aq74\\numpy_347672c58d8744529994112e64d0193f\\tools\\cythonize.py\", line 234, in main\n",
      "      find_process_files(root_dir)\n",
      "    File \"C:\\Users\\Ashen Wijesingha\\AppData\\Local\\Temp\\pip-install-d9w4aq74\\numpy_347672c58d8744529994112e64d0193f\\tools\\cythonize.py\", line 225, in find_process_files\n",
      "      process(root_dir, fromfile, tofile, function, hash_db)\n",
      "    File \"C:\\Users\\Ashen Wijesingha\\AppData\\Local\\Temp\\pip-install-d9w4aq74\\numpy_347672c58d8744529994112e64d0193f\\tools\\cythonize.py\", line 191, in process\n",
      "      processor_function(fromfile, tofile)\n",
      "    File \"C:\\Users\\Ashen Wijesingha\\AppData\\Local\\Temp\\pip-install-d9w4aq74\\numpy_347672c58d8744529994112e64d0193f\\tools\\cythonize.py\", line 80, in process_pyx\n",
      "      subprocess.check_call(\n",
      "    File \"C:\\Users\\Ashen Wijesingha\\AppData\\Local\\Programs\\Python\\Python311\\Lib\\subprocess.py\", line 413, in check_call\n",
      "      raise CalledProcessError(retcode, cmd)\n",
      "  subprocess.CalledProcessError: Command '['C:\\\\Users\\\\Ashen Wijesingha\\\\AppData\\\\Local\\\\Programs\\\\Python\\\\Python311\\\\python.exe', '-m', 'cython', '-3', '--fast-fail', '-o', '_mt19937.c', '_mt19937.pyx']' returned non-zero exit status 1.\n",
      "  Cythonizing sources\n",
      "  Traceback (most recent call last):\n",
      "    File \"C:\\Users\\Ashen Wijesingha\\AppData\\Local\\Programs\\Python\\Python311\\Lib\\site-packages\\pip\\_vendor\\pyproject_hooks\\_in_process\\_in_process.py\", line 353, in <module>\n",
      "      main()\n",
      "    File \"C:\\Users\\Ashen Wijesingha\\AppData\\Local\\Programs\\Python\\Python311\\Lib\\site-packages\\pip\\_vendor\\pyproject_hooks\\_in_process\\_in_process.py\", line 335, in main\n",
      "      json_out['return_val'] = hook(**hook_input['kwargs'])\n",
      "                               ^^^^^^^^^^^^^^^^^^^^^^^^^^^^\n",
      "    File \"C:\\Users\\Ashen Wijesingha\\AppData\\Local\\Programs\\Python\\Python311\\Lib\\site-packages\\pip\\_vendor\\pyproject_hooks\\_in_process\\_in_process.py\", line 149, in prepare_metadata_for_build_wheel\n",
      "      return hook(metadata_directory, config_settings)\n",
      "             ^^^^^^^^^^^^^^^^^^^^^^^^^^^^^^^^^^^^^^^^^\n",
      "    File \"C:\\Users\\Ashen Wijesingha\\AppData\\Local\\Temp\\pip-build-env-9teekib0\\overlay\\Lib\\site-packages\\setuptools\\build_meta.py\", line 396, in prepare_metadata_for_build_wheel\n",
      "      self.run_setup()\n",
      "    File \"C:\\Users\\Ashen Wijesingha\\AppData\\Local\\Temp\\pip-build-env-9teekib0\\overlay\\Lib\\site-packages\\setuptools\\build_meta.py\", line 507, in run_setup\n",
      "      super(_BuildMetaLegacyBackend, self).run_setup(setup_script=setup_script)\n",
      "    File \"C:\\Users\\Ashen Wijesingha\\AppData\\Local\\Temp\\pip-build-env-9teekib0\\overlay\\Lib\\site-packages\\setuptools\\build_meta.py\", line 341, in run_setup\n",
      "      exec(code, locals())\n",
      "    File \"<string>\", line 488, in <module>\n",
      "    File \"<string>\", line 469, in setup_package\n",
      "    File \"<string>\", line 275, in generate_cython\n",
      "  RuntimeError: Running cythonize failed!\n",
      "  [end of output]\n",
      "  \n",
      "  note: This error originates from a subprocess, and is likely not a problem with pip.\n",
      "error: metadata-generation-failed\n",
      "\n",
      "Encountered error while generating package metadata.\n",
      "\n",
      "See above for output.\n",
      "\n",
      "note: This is an issue with the package mentioned above, not pip.\n",
      "hint: See above for details.\n"
     ]
    }
   ],
   "source": [
    "!pip install spleeter"
   ],
   "metadata": {
    "collapsed": false,
    "ExecuteTime": {
     "end_time": "2023-11-04T01:33:00.484227100Z",
     "start_time": "2023-11-04T01:32:22.236719300Z"
    }
   }
  },
  {
   "cell_type": "code",
   "execution_count": 12,
   "metadata": {
    "id": "D-syBjPfj5GP",
    "ExecuteTime": {
     "end_time": "2023-11-04T05:28:14.387886Z",
     "start_time": "2023-11-04T05:28:14.314551800Z"
    }
   },
   "outputs": [
    {
     "ename": "ModuleNotFoundError",
     "evalue": "No module named 'spleeter.separator'",
     "output_type": "error",
     "traceback": [
      "\u001B[1;31m---------------------------------------------------------------------------\u001B[0m",
      "\u001B[1;31mModuleNotFoundError\u001B[0m                       Traceback (most recent call last)",
      "Cell \u001B[1;32mIn[12], line 2\u001B[0m\n\u001B[0;32m      1\u001B[0m \u001B[38;5;28;01mimport\u001B[39;00m \u001B[38;5;21;01mos\u001B[39;00m\n\u001B[1;32m----> 2\u001B[0m \u001B[38;5;28;01mfrom\u001B[39;00m \u001B[38;5;21;01mspleeter\u001B[39;00m\u001B[38;5;21;01m.\u001B[39;00m\u001B[38;5;21;01mseparator\u001B[39;00m \u001B[38;5;28;01mimport\u001B[39;00m Separator\n\u001B[0;32m      3\u001B[0m \u001B[38;5;28;01mimport\u001B[39;00m \u001B[38;5;21;01mlibrosa\u001B[39;00m\n\u001B[0;32m      4\u001B[0m \u001B[38;5;28;01mimport\u001B[39;00m \u001B[38;5;21;01mnumpy\u001B[39;00m \u001B[38;5;28;01mas\u001B[39;00m \u001B[38;5;21;01mnp\u001B[39;00m\n",
      "\u001B[1;31mModuleNotFoundError\u001B[0m: No module named 'spleeter.separator'"
     ]
    }
   ],
   "source": [
    "import os\n",
    "from spleeter.separator import Separator\n",
    "import librosa\n",
    "import numpy as np\n",
    "import matplotlib.pyplot as plt\n",
    "import speech_recognition as sr"
   ]
  },
  {
   "cell_type": "markdown",
   "source": [
    "Use *spleeter* to separate vocals from the original music file."
   ],
   "metadata": {
    "id": "FXfNus8TeUg7"
   }
  },
  {
   "cell_type": "code",
   "source": [
    "# Path to the Spleeter model. You can change it to the desired model.\n",
    "spleeter_model = 'spleeter:2stems'\n",
    "\n",
    "# Initialize the Spleeter separator\n",
    "separator = Separator(spleeter_model)\n",
    "\n",
    "# Path to the input audio file (WAV format)\n",
    "input_audio_file = './audio1.wav'\n",
    "\n",
    "# Output directory for the separated audio files\n",
    "output_directory = './separated_recordings'\n",
    "\n",
    "# Create the output directory if it doesn't exist\n",
    "if not os.path.exists(output_directory):\n",
    "    os.makedirs(output_directory)\n",
    "\n",
    "# Perform the separation\n",
    "audio_data = separator.separate_to_file(input_audio_file, output_directory)\n",
    "\n",
    "print(\"Original Audio Separation complete.\")"
   ],
   "metadata": {
    "id": "wwL1XhNYpC3u"
   },
   "execution_count": null,
   "outputs": []
  },
  {
   "cell_type": "markdown",
   "source": [
    "Generate text array Using the audio clip one for lyrics."
   ],
   "metadata": {
    "collapsed": false
   }
  },
  {
   "cell_type": "code",
   "execution_count": null,
   "outputs": [],
   "source": [
    "# Initialize the recognizer\n",
    "recognizer = sr.Recognizer()\n",
    "\n",
    "# Load the audio file\n",
    "audio_file = \"audio1.wav\"\n",
    "\n",
    "with sr.AudioFile(audio_file) as source:\n",
    "    # Adjust for ambient noise, if necessary\n",
    "    recognizer.adjust_for_ambient_noise(source)\n",
    "\n",
    "    # Record the audio\n",
    "    audio_data = recognizer.record(source)\n",
    "\n",
    "# Transcribe the audio to text\n",
    "text1 = recognizer.recognize_google(audio_data)  # You can use other engines too\n",
    "\n",
    "print(text1)"
   ],
   "metadata": {
    "collapsed": false
   }
  },
  {
   "cell_type": "markdown",
   "source": [
    "convert it into a text array by splitting it into words or sentences using Python's string manipulation functions"
   ],
   "metadata": {
    "collapsed": false
   }
  },
  {
   "cell_type": "code",
   "execution_count": null,
   "outputs": [],
   "source": [
    "text_array1 = text1.split()  # Split by spaces to get individual words\n",
    "\n",
    "# Or, split by sentences if needed\n",
    "sentences1 = text1.split('.')"
   ],
   "metadata": {
    "collapsed": false
   }
  },
  {
   "cell_type": "markdown",
   "source": [
    "Separate cover audio from the cover video file."
   ],
   "metadata": {
    "collapsed": false
   }
  },
  {
   "cell_type": "code",
   "execution_count": null,
   "outputs": [],
   "source": [
    "input_file = 'video.mp4'\n",
    "output_file = 'audio2.mp3'\n",
    "\n",
    "ffmpeg.input(input_file).output(output_file, f='mp3').run()"
   ],
   "metadata": {
    "collapsed": false
   }
  },
  {
   "cell_type": "markdown",
   "source": [
    "Use *spleeter* to separate vocals from the cover music file."
   ],
   "metadata": {
    "collapsed": false
   }
  },
  {
   "cell_type": "code",
   "execution_count": null,
   "outputs": [],
   "source": [
    "# Path to the Spleeter model. You can change it to the desired model.\n",
    "spleeter_model = 'spleeter:2stems'\n",
    "\n",
    "# Initialize the Spleeter separator\n",
    "separator = Separator(spleeter_model)\n",
    "\n",
    "# Path to the input audio file (WAV format)\n",
    "input_audio_file = './audio2.wav'\n",
    "\n",
    "# Output directory for the separated audio files\n",
    "output_directory = './separated_recordings'\n",
    "\n",
    "# Create the output directory if it doesn't exist\n",
    "if not os.path.exists(output_directory):\n",
    "    os.makedirs(output_directory)\n",
    "\n",
    "# Perform the separation\n",
    "audio_data = separator.separate_to_file(input_audio_file, output_directory)\n",
    "\n",
    "print(\"Cover Song Audio Separation complete.\")"
   ],
   "metadata": {
    "collapsed": false
   }
  },
  {
   "cell_type": "markdown",
   "source": [
    "Generate text array Using the audio clip one for lyrics."
   ],
   "metadata": {
    "collapsed": false
   }
  },
  {
   "cell_type": "code",
   "execution_count": null,
   "outputs": [],
   "source": [
    "# Initialize the recognizer\n",
    "recognizer = sr.Recognizer()\n",
    "\n",
    "# Load the audio file\n",
    "audio_file = \"audio2.wav\"\n",
    "\n",
    "with sr.AudioFile(audio_file) as source:\n",
    "    # Adjust for ambient noise, if necessary\n",
    "    recognizer.adjust_for_ambient_noise(source)\n",
    "\n",
    "    # Record the audio\n",
    "    audio_data = recognizer.record(source)\n",
    "\n",
    "# Transcribe the audio to text\n",
    "text2 = recognizer.recognize_google(audio_data)  # You can use other engines too\n",
    "\n",
    "print(text2)"
   ],
   "metadata": {
    "collapsed": false
   }
  },
  {
   "cell_type": "markdown",
   "source": [
    "convert it into a text array by splitting it into words or sentences using Python's string manipulation functions"
   ],
   "metadata": {
    "collapsed": false
   }
  },
  {
   "cell_type": "code",
   "execution_count": null,
   "outputs": [],
   "source": [
    "text_array2 = text2.split()  # Split by spaces to get individual words\n",
    "\n",
    "# Or, split by sentences if needed\n",
    "sentences2 = text2.split('.')"
   ],
   "metadata": {
    "collapsed": false
   }
  },
  {
   "cell_type": "markdown",
   "source": [
    "Extract pitch information from separated audio files using *librosa* python library."
   ],
   "metadata": {
    "id": "0fGV4Vq9eoyY"
   }
  },
  {
   "cell_type": "code",
   "source": [
    "# Paths to the separated audio files (voice and instrument)\n",
    "original_audio_file = 'separated_recordings/separated_recordings/audio1.wav'\n",
    "cover_audio_file = 'separated_recordings/separated_recordings/audio2.wav'\n",
    "\n",
    "# Load the original audio file\n",
    "y_original_voice, sr_voice = librosa.load(original_audio_file)\n",
    "\n",
    "# Load the cover audio file\n",
    "y_cover_voice, sr_instrument = librosa.load(cover_audio_file)\n",
    "\n",
    "# Extract the pitch information using librosa.piptrack for the voice\n",
    "f0_original_audio, voiced_flag, voiced_probs = librosa.pyin(y=y_original_voice, fmin=librosa.note_to_hz('C2'), fmax=librosa.note_to_hz('C7'))\n",
    "\n",
    "# Extract the pitch information using librosa.piptrack for the instrument\n",
    "f0_cover_audio, voiced_flag, voiced_probs = librosa.pyin(y=y_cover_voice, fmin=librosa.note_to_hz('C2'), fmax=librosa.note_to_hz('C7'))"
   ],
   "metadata": {
    "id": "BSG8btZUpiY_"
   },
   "execution_count": 3,
   "outputs": []
  },
  {
   "cell_type": "markdown",
   "source": [
    "Plot variation of pitches of accompanied music track and singing voice with time."
   ],
   "metadata": {
    "id": "bwyKCJrve3Ed"
   }
  },
  {
   "cell_type": "code",
   "source": [
    "# Create a time vector\n",
    "times = librosa.times_like(f0_original_audio)\n",
    "\n",
    "plt.figure(figsize=(12, 6))\n",
    "plt.plot(times, f0_original_audio, label='Original Audio Pitch', color='blue')\n",
    "plt.plot(times, f0_cover_audio, label='Cover Audio Pitch', color='red')\n",
    "plt.title('Pitch Comparison of Original and Cover Song')\n",
    "plt.xlabel('Time (s)')\n",
    "plt.ylabel('Pitch (Hz)')\n",
    "plt.legend()\n",
    "\n",
    "plt.show()"
   ],
   "metadata": {
    "colab": {
     "base_uri": "https://localhost:8080/",
     "height": 564
    },
    "id": "nYXU-Y83yxpw",
    "outputId": "a8dd1451-a650-4638-c993-3165c40a64be"
   },
   "execution_count": 10,
   "outputs": [
    {
     "output_type": "display_data",
     "data": {
      "text/plain": [
       "<Figure size 1200x600 with 1 Axes>"
      ],
      "image/png": "[encoded data removed]"
     },
     "metadata": {}
    }
   ]
  },
  {
   "cell_type": "markdown",
   "source": [
    "Calculate a score for the singing performance based on the variation of the pitch of singing voice and accompanied music track.\n",
    "\n",
    "No marks will be given if the pitch difference is higher than 100 Hz. **Marks are calculated out of 10**."
   ],
   "metadata": {
    "id": "blEAI36ZfHEW"
   }
  },
  {
   "cell_type": "code",
   "source": [
    "# Calculate time step (frame size in seconds)\n",
    "frame_length = len(f0_original_audio) / len(y_original_voice)\n",
    "\n",
    "# Initialize variables for scoring\n",
    "total_marks = 0\n",
    "max_possible_marks = 0\n",
    "\n",
    "# Iterate through pitch data and calculate marks\n",
    "for i in range(len(f0_original_audio)):\n",
    "    pitch_original_voice = f0_original_audio[i]\n",
    "    pitch_cover_voice = f0_cover_audio[i]\n",
    "\n",
    "    if not np.isnan(pitch_original_voice) and not np.isnan(pitch_cover_voice):\n",
    "        pitch_difference = abs(pitch_original_voice - pitch_cover_voice)\n",
    "\n",
    "        if pitch_difference < 1.0:\n",
    "            marks = 10\n",
    "        elif pitch_difference < 5.0:\n",
    "            marks = 9\n",
    "        elif pitch_difference < 10.0:\n",
    "            marks = 8\n",
    "        elif pitch_difference < 20.0:\n",
    "          marks = 7\n",
    "        elif pitch_difference < 30.0:\n",
    "            marks = 6\n",
    "        elif pitch_difference < 40.0:\n",
    "            marks = 5\n",
    "        elif pitch_difference < 50.0:\n",
    "            marks = 4\n",
    "        elif pitch_difference < 70.0:\n",
    "            marks = 3\n",
    "        elif pitch_difference < 80.0:\n",
    "            marks = 2\n",
    "        elif pitch_difference < 100.0:\n",
    "            marks = 1\n",
    "        else:\n",
    "            marks = 0\n",
    "    else:\n",
    "        marks = 0\n",
    "\n",
    "    # Update total marks\n",
    "    total_marks += marks\n",
    "\n",
    "    # Update the maximum possible marks\n",
    "    max_possible_marks += 10  # Assuming each second can earn a maximum of 10 marks\n",
    "\n",
    "# Normalize the final marks to a 0-10 scale\n",
    "final_marks = (total_marks / max_possible_marks) * 10\n",
    "\n",
    "# Print the final marks\n",
    "print(f'Final Marks out of 10: {final_marks:.2f}')"
   ],
   "metadata": {
    "colab": {
     "base_uri": "https://localhost:8080/"
    },
    "id": "93jXM84uu5qo",
    "outputId": "af949b63-5528-45a8-e369-44747d310c70"
   },
   "execution_count": 14,
   "outputs": [
    {
     "output_type": "stream",
     "name": "stdout",
     "text": [
      "Final Marks out of 10: 4.65\n"
     ]
    }
   ]
  }
 ]
}
